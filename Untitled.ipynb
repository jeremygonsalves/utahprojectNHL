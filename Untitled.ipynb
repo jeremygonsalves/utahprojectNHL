{
 "cells": [
  {
   "cell_type": "code",
   "execution_count": 31,
   "id": "f9a2ab88-1f82-4645-82b5-b749ea20abf1",
   "metadata": {
    "tags": []
   },
   "outputs": [
    {
     "name": "stdout",
     "output_type": "stream",
     "text": [
      "Defaulting to user installation because normal site-packages is not writeable\n",
      "Requirement already satisfied: pulp in /Users/jeremygonsalves/Library/Python/3.9/lib/python/site-packages (2.9.0)\n",
      "Requirement already satisfied: pandas in /Users/jeremygonsalves/Library/Python/3.9/lib/python/site-packages (2.2.2)\n",
      "Requirement already satisfied: requests in /Users/jeremygonsalves/Library/Python/3.9/lib/python/site-packages (2.32.3)\n",
      "Requirement already satisfied: bs4 in /Users/jeremygonsalves/Library/Python/3.9/lib/python/site-packages (0.0.2)\n",
      "Requirement already satisfied: scikit-learn in /Users/jeremygonsalves/Library/Python/3.9/lib/python/site-packages (1.5.1)\n",
      "Requirement already satisfied: python-dateutil>=2.8.2 in /Users/jeremygonsalves/Library/Python/3.9/lib/python/site-packages (from pandas) (2.9.0.post0)\n",
      "Requirement already satisfied: numpy>=1.22.4 in /Users/jeremygonsalves/Library/Python/3.9/lib/python/site-packages (from pandas) (2.0.1)\n",
      "Requirement already satisfied: tzdata>=2022.7 in /Users/jeremygonsalves/Library/Python/3.9/lib/python/site-packages (from pandas) (2024.1)\n",
      "Requirement already satisfied: pytz>=2020.1 in /Users/jeremygonsalves/Library/Python/3.9/lib/python/site-packages (from pandas) (2024.1)\n",
      "Requirement already satisfied: charset-normalizer<4,>=2 in /Users/jeremygonsalves/Library/Python/3.9/lib/python/site-packages (from requests) (3.3.2)\n",
      "Requirement already satisfied: urllib3<3,>=1.21.1 in /Users/jeremygonsalves/Library/Python/3.9/lib/python/site-packages (from requests) (2.2.2)\n",
      "Requirement already satisfied: idna<4,>=2.5 in /Users/jeremygonsalves/Library/Python/3.9/lib/python/site-packages (from requests) (3.7)\n",
      "Requirement already satisfied: certifi>=2017.4.17 in /Users/jeremygonsalves/Library/Python/3.9/lib/python/site-packages (from requests) (2024.7.4)\n",
      "Requirement already satisfied: beautifulsoup4 in /Users/jeremygonsalves/Library/Python/3.9/lib/python/site-packages (from bs4) (4.12.3)\n",
      "Requirement already satisfied: scipy>=1.6.0 in /Users/jeremygonsalves/Library/Python/3.9/lib/python/site-packages (from scikit-learn) (1.13.1)\n",
      "Requirement already satisfied: joblib>=1.2.0 in /Users/jeremygonsalves/Library/Python/3.9/lib/python/site-packages (from scikit-learn) (1.4.2)\n",
      "Requirement already satisfied: threadpoolctl>=3.1.0 in /Users/jeremygonsalves/Library/Python/3.9/lib/python/site-packages (from scikit-learn) (3.5.0)\n",
      "Requirement already satisfied: six>=1.5 in /Applications/Xcode.app/Contents/Developer/Library/Frameworks/Python3.framework/Versions/3.9/lib/python3.9/site-packages (from python-dateutil>=2.8.2->pandas) (1.15.0)\n",
      "Requirement already satisfied: soupsieve>1.2 in /Users/jeremygonsalves/Library/Python/3.9/lib/python/site-packages (from beautifulsoup4->bs4) (2.5)\n",
      "\u001b[33mWARNING: You are using pip version 21.2.4; however, version 24.2 is available.\n",
      "You should consider upgrading via the '/Applications/Xcode.app/Contents/Developer/usr/bin/python3 -m pip install --upgrade pip' command.\u001b[0m\n",
      "Note: you may need to restart the kernel to use updated packages.\n"
     ]
    }
   ],
   "source": [
    "pip install pulp pandas requests bs4 scikit-learn\n"
   ]
  },
  {
   "cell_type": "code",
   "execution_count": 34,
   "id": "654a5f38-0c35-4194-969d-7b6c7c13d725",
   "metadata": {
    "tags": []
   },
   "outputs": [],
   "source": [
    "import pandas as pd\n",
    "from sklearn.model_selection import train_test_split\n",
    "from sklearn.ensemble import RandomForestRegressor\n",
    "from sklearn.metrics import mean_squared_error\n"
   ]
  },
  {
   "cell_type": "code",
   "execution_count": 50,
   "id": "ac309c55-7052-41ac-9f47-746db8e764a7",
   "metadata": {
    "tags": []
   },
   "outputs": [
    {
     "name": "stdout",
     "output_type": "stream",
     "text": [
      "Teams DF Columns: Index(['team', 'season', 'name', 'gameId', 'playerTeam', 'opposingTeam',\n",
      "       'home_or_away', 'gameDate', 'position', 'situation',\n",
      "       ...\n",
      "       'unblockedShotAttemptsAgainst',\n",
      "       'scoreAdjustedUnblockedShotAttemptsAgainst', 'dZoneGiveawaysAgainst',\n",
      "       'xGoalsFromxReboundsOfShotsAgainst',\n",
      "       'xGoalsFromActualReboundsOfShotsAgainst', 'reboundxGoalsAgainst',\n",
      "       'totalShotCreditAgainst', 'scoreAdjustedTotalShotCreditAgainst',\n",
      "       'scoreFlurryAdjustedTotalShotCreditAgainst', 'playoffGame'],\n",
      "      dtype='object', length=111)\n",
      "Players DF Columns: Index(['playerId', 'season', 'name', 'team', 'position', 'situation',\n",
      "       'games_played', 'icetime', 'shifts', 'gameScore',\n",
      "       ...\n",
      "       'OffIce_F_xGoals', 'OffIce_A_xGoals', 'OffIce_F_shotAttempts',\n",
      "       'OffIce_A_shotAttempts', 'xGoalsForAfterShifts',\n",
      "       'xGoalsAgainstAfterShifts', 'corsiForAfterShifts',\n",
      "       'corsiAgainstAfterShifts', 'fenwickForAfterShifts',\n",
      "       'fenwickAgainstAfterShifts'],\n",
      "      dtype='object', length=154)\n",
      "Lines DF Columns: Index(['lineId', 'season', 'name', 'team', 'position', 'situation',\n",
      "       'games_played', 'icetime', 'iceTimeRank', 'xGoalsPercentage',\n",
      "       ...\n",
      "       'scoreAdjustedShotsAttemptsAgainst', 'unblockedShotAttemptsAgainst',\n",
      "       'scoreAdjustedUnblockedShotAttemptsAgainst', 'dZoneGiveawaysAgainst',\n",
      "       'xGoalsFromxReboundsOfShotsAgainst',\n",
      "       'xGoalsFromActualReboundsOfShotsAgainst', 'reboundxGoalsAgainst',\n",
      "       'totalShotCreditAgainst', 'scoreAdjustedTotalShotCreditAgainst',\n",
      "       'scoreFlurryAdjustedTotalShotCreditAgainst'],\n",
      "      dtype='object', length=108)\n",
      "       playerId  season                name team position situation  \\\n",
      "200     8476329    2021         Travis Boyd  ARI        C     other   \n",
      "201     8476329    2021         Travis Boyd  ARI        C       all   \n",
      "202     8476329    2021         Travis Boyd  ARI        C      5on5   \n",
      "203     8476329    2021         Travis Boyd  ARI        C      4on5   \n",
      "204     8476329    2021         Travis Boyd  ARI        C      5on4   \n",
      "...         ...     ...                 ...  ...      ...       ...   \n",
      "14290   8483763    2023  Maksymilian Szuber  ARI        D     other   \n",
      "14291   8483763    2023  Maksymilian Szuber  ARI        D       all   \n",
      "14292   8483763    2023  Maksymilian Szuber  ARI        D      5on5   \n",
      "14293   8483763    2023  Maksymilian Szuber  ARI        D      4on5   \n",
      "14294   8483763    2023  Maksymilian Szuber  ARI        D      5on4   \n",
      "\n",
      "       games_played  icetime  shifts  gameScore  ...  OffIce_F_xGoals  \\\n",
      "200              74   2979.0    63.0      14.84  ...            12.89   \n",
      "201              74  73329.0  1692.0      17.23  ...           125.68   \n",
      "202              74  60662.0  1423.0      17.23  ...            89.35   \n",
      "203              74   2709.0    96.0      14.98  ...             2.28   \n",
      "204              74   6979.0   110.0      17.82  ...            13.77   \n",
      "...             ...      ...     ...        ...  ...              ...   \n",
      "14290             1      0.0     0.0       0.00  ...             0.00   \n",
      "14291             1   1019.0    25.0       0.07  ...             2.89   \n",
      "14292             1   1011.0    24.0       0.07  ...             2.71   \n",
      "14293             1      8.0     1.0       0.07  ...             0.01   \n",
      "14294             1      0.0     0.0       0.00  ...             0.00   \n",
      "\n",
      "       OffIce_A_xGoals  OffIce_F_shotAttempts  OffIce_A_shotAttempts  \\\n",
      "200              14.50                   98.0                  119.0   \n",
      "201             186.27                 2520.0                 3424.0   \n",
      "202             125.93                 2080.0                 2640.0   \n",
      "203              25.45                   51.0                  413.0   \n",
      "204               2.65                  195.0                   39.0   \n",
      "...                ...                    ...                    ...   \n",
      "14290             0.00                    0.0                    0.0   \n",
      "14291             1.17                   50.0                   35.0   \n",
      "14292             0.89                   47.0                   30.0   \n",
      "14293             0.28                    1.0                    5.0   \n",
      "14294             0.00                    0.0                    0.0   \n",
      "\n",
      "       xGoalsForAfterShifts  xGoalsAgainstAfterShifts  corsiForAfterShifts  \\\n",
      "200                    0.00                      0.09                  0.0   \n",
      "201                    0.00                      0.00                  0.0   \n",
      "202                    2.55                      1.91                 42.0   \n",
      "203                    0.01                      0.00                  1.0   \n",
      "204                    0.00                      0.17                  0.0   \n",
      "...                     ...                       ...                  ...   \n",
      "14290                  0.00                      0.00                  0.0   \n",
      "14291                  0.00                      0.00                  0.0   \n",
      "14292                  0.00                      0.00                  1.0   \n",
      "14293                  0.00                      0.00                  0.0   \n",
      "14294                  0.00                      0.00                  0.0   \n",
      "\n",
      "       corsiAgainstAfterShifts  fenwickForAfterShifts  \\\n",
      "200                        1.0                    0.0   \n",
      "201                        0.0                    0.0   \n",
      "202                       40.0                   36.0   \n",
      "203                        0.0                    1.0   \n",
      "204                        3.0                    0.0   \n",
      "...                        ...                    ...   \n",
      "14290                      0.0                    0.0   \n",
      "14291                      0.0                    0.0   \n",
      "14292                      0.0                    0.0   \n",
      "14293                      0.0                    0.0   \n",
      "14294                      0.0                    0.0   \n",
      "\n",
      "       fenwickAgainstAfterShifts  \n",
      "200                          1.0  \n",
      "201                          0.0  \n",
      "202                         34.0  \n",
      "203                          0.0  \n",
      "204                          3.0  \n",
      "...                          ...  \n",
      "14290                        0.0  \n",
      "14291                        0.0  \n",
      "14292                        0.0  \n",
      "14293                        0.0  \n",
      "14294                        0.0  \n",
      "\n",
      "[470 rows x 154 columns]\n"
     ]
    }
   ],
   "source": [
    "import pandas as pd\n",
    "\n",
    "# Load data files\n",
    "teams_df = pd.read_csv('all_teams.csv')\n",
    "lines_df = pd.read_csv('lines.csv')\n",
    "\n",
    "# Load and combine skaters data from 2021, 2022, and 2023\n",
    "skaters_2021_df = pd.read_csv('skaters 2021.csv')\n",
    "skaters_2022_df = pd.read_csv('skaters 2022.csv')\n",
    "skaters_2023_df = pd.read_csv('skaters 2023.csv')\n",
    "\n",
    "# Combine the skaters data into a single DataFrame\n",
    "players_df = pd.concat([skaters_2021_df, skaters_2022_df, skaters_2023_df], ignore_index=True)\n",
    "\n",
    "# Inspect column names\n",
    "print(\"Teams DF Columns:\", teams_df.columns)\n",
    "print(\"Players DF Columns:\", players_df.columns)\n",
    "print(\"Lines DF Columns:\", lines_df.columns)\n",
    "\n",
    "# Filter players where the team is ARI\n",
    "ari_players_df = players_df[players_df['team'] == 'ARI']\n",
    "\n",
    "# Display the filtered data\n",
    "print(ari_players_df)\n",
    "\n",
    "# Save the filtered data to a new CSV file\n",
    "ari_players_df.to_csv('ARI_skaters_combined.csv', index=False)\n"
   ]
  },
  {
   "cell_type": "code",
   "execution_count": 67,
   "id": "ec899742-949c-421a-99b5-efc376202bf0",
   "metadata": {
    "tags": []
   },
   "outputs": [
    {
     "ename": "ValueError",
     "evalue": "Columns must be same length as key",
     "output_type": "error",
     "traceback": [
      "\u001b[0;31m---------------------------------------------------------------------------\u001b[0m",
      "\u001b[0;31mValueError\u001b[0m                                Traceback (most recent call last)",
      "Cell \u001b[0;32mIn[67], line 7\u001b[0m\n\u001b[1;32m      4\u001b[0m     \u001b[38;5;28;01mreturn\u001b[39;00m parts\n\u001b[1;32m      6\u001b[0m \u001b[38;5;66;03m# Apply the function to split the lineId into three parts\u001b[39;00m\n\u001b[0;32m----> 7\u001b[0m \u001b[43mlines_df\u001b[49m\u001b[43m[\u001b[49m\u001b[43m[\u001b[49m\u001b[38;5;124;43m'\u001b[39;49m\u001b[38;5;124;43mPlayer1LastName\u001b[39;49m\u001b[38;5;124;43m'\u001b[39;49m\u001b[43m,\u001b[49m\u001b[43m \u001b[49m\u001b[38;5;124;43m'\u001b[39;49m\u001b[38;5;124;43mPlayer2LastName\u001b[39;49m\u001b[38;5;124;43m'\u001b[39;49m\u001b[43m,\u001b[49m\u001b[43m \u001b[49m\u001b[38;5;124;43m'\u001b[39;49m\u001b[38;5;124;43mPlayer3LastName\u001b[39;49m\u001b[38;5;124;43m'\u001b[39;49m\u001b[43m]\u001b[49m\u001b[43m]\u001b[49m \u001b[38;5;241m=\u001b[39m lines_df[\u001b[38;5;124m'\u001b[39m\u001b[38;5;124mname\u001b[39m\u001b[38;5;124m'\u001b[39m]\u001b[38;5;241m.\u001b[39mapply(split_line_id)\u001b[38;5;241m.\u001b[39mapply(pd\u001b[38;5;241m.\u001b[39mSeries)\n\u001b[1;32m      9\u001b[0m \u001b[38;5;28mprint\u001b[39m(lines_df[[\u001b[38;5;124m'\u001b[39m\u001b[38;5;124mlineId\u001b[39m\u001b[38;5;124m'\u001b[39m, \u001b[38;5;124m'\u001b[39m\u001b[38;5;124mPlayer1LastName\u001b[39m\u001b[38;5;124m'\u001b[39m, \u001b[38;5;124m'\u001b[39m\u001b[38;5;124mPlayer2LastName\u001b[39m\u001b[38;5;124m'\u001b[39m, \u001b[38;5;124m'\u001b[39m\u001b[38;5;124mPlayer3LastName\u001b[39m\u001b[38;5;124m'\u001b[39m]]\u001b[38;5;241m.\u001b[39mhead())\n",
      "File \u001b[0;32m~/Library/Python/3.9/lib/python/site-packages/pandas/core/frame.py:4299\u001b[0m, in \u001b[0;36mDataFrame.__setitem__\u001b[0;34m(self, key, value)\u001b[0m\n\u001b[1;32m   4297\u001b[0m     \u001b[38;5;28mself\u001b[39m\u001b[38;5;241m.\u001b[39m_setitem_frame(key, value)\n\u001b[1;32m   4298\u001b[0m \u001b[38;5;28;01melif\u001b[39;00m \u001b[38;5;28misinstance\u001b[39m(key, (Series, np\u001b[38;5;241m.\u001b[39mndarray, \u001b[38;5;28mlist\u001b[39m, Index)):\n\u001b[0;32m-> 4299\u001b[0m     \u001b[38;5;28;43mself\u001b[39;49m\u001b[38;5;241;43m.\u001b[39;49m\u001b[43m_setitem_array\u001b[49m\u001b[43m(\u001b[49m\u001b[43mkey\u001b[49m\u001b[43m,\u001b[49m\u001b[43m \u001b[49m\u001b[43mvalue\u001b[49m\u001b[43m)\u001b[49m\n\u001b[1;32m   4300\u001b[0m \u001b[38;5;28;01melif\u001b[39;00m \u001b[38;5;28misinstance\u001b[39m(value, DataFrame):\n\u001b[1;32m   4301\u001b[0m     \u001b[38;5;28mself\u001b[39m\u001b[38;5;241m.\u001b[39m_set_item_frame_value(key, value)\n",
      "File \u001b[0;32m~/Library/Python/3.9/lib/python/site-packages/pandas/core/frame.py:4341\u001b[0m, in \u001b[0;36mDataFrame._setitem_array\u001b[0;34m(self, key, value)\u001b[0m\n\u001b[1;32m   4336\u001b[0m \u001b[38;5;28;01melse\u001b[39;00m:\n\u001b[1;32m   4337\u001b[0m     \u001b[38;5;66;03m# Note: unlike self.iloc[:, indexer] = value, this will\u001b[39;00m\n\u001b[1;32m   4338\u001b[0m     \u001b[38;5;66;03m#  never try to overwrite values inplace\u001b[39;00m\n\u001b[1;32m   4340\u001b[0m     \u001b[38;5;28;01mif\u001b[39;00m \u001b[38;5;28misinstance\u001b[39m(value, DataFrame):\n\u001b[0;32m-> 4341\u001b[0m         \u001b[43mcheck_key_length\u001b[49m\u001b[43m(\u001b[49m\u001b[38;5;28;43mself\u001b[39;49m\u001b[38;5;241;43m.\u001b[39;49m\u001b[43mcolumns\u001b[49m\u001b[43m,\u001b[49m\u001b[43m \u001b[49m\u001b[43mkey\u001b[49m\u001b[43m,\u001b[49m\u001b[43m \u001b[49m\u001b[43mvalue\u001b[49m\u001b[43m)\u001b[49m\n\u001b[1;32m   4342\u001b[0m         \u001b[38;5;28;01mfor\u001b[39;00m k1, k2 \u001b[38;5;129;01min\u001b[39;00m \u001b[38;5;28mzip\u001b[39m(key, value\u001b[38;5;241m.\u001b[39mcolumns):\n\u001b[1;32m   4343\u001b[0m             \u001b[38;5;28mself\u001b[39m[k1] \u001b[38;5;241m=\u001b[39m value[k2]\n",
      "File \u001b[0;32m~/Library/Python/3.9/lib/python/site-packages/pandas/core/indexers/utils.py:390\u001b[0m, in \u001b[0;36mcheck_key_length\u001b[0;34m(columns, key, value)\u001b[0m\n\u001b[1;32m    388\u001b[0m \u001b[38;5;28;01mif\u001b[39;00m columns\u001b[38;5;241m.\u001b[39mis_unique:\n\u001b[1;32m    389\u001b[0m     \u001b[38;5;28;01mif\u001b[39;00m \u001b[38;5;28mlen\u001b[39m(value\u001b[38;5;241m.\u001b[39mcolumns) \u001b[38;5;241m!=\u001b[39m \u001b[38;5;28mlen\u001b[39m(key):\n\u001b[0;32m--> 390\u001b[0m         \u001b[38;5;28;01mraise\u001b[39;00m \u001b[38;5;167;01mValueError\u001b[39;00m(\u001b[38;5;124m\"\u001b[39m\u001b[38;5;124mColumns must be same length as key\u001b[39m\u001b[38;5;124m\"\u001b[39m)\n\u001b[1;32m    391\u001b[0m \u001b[38;5;28;01melse\u001b[39;00m:\n\u001b[1;32m    392\u001b[0m     \u001b[38;5;66;03m# Missing keys in columns are represented as -1\u001b[39;00m\n\u001b[1;32m    393\u001b[0m     \u001b[38;5;28;01mif\u001b[39;00m \u001b[38;5;28mlen\u001b[39m(columns\u001b[38;5;241m.\u001b[39mget_indexer_non_unique(key)[\u001b[38;5;241m0\u001b[39m]) \u001b[38;5;241m!=\u001b[39m \u001b[38;5;28mlen\u001b[39m(value\u001b[38;5;241m.\u001b[39mcolumns):\n",
      "\u001b[0;31mValueError\u001b[0m: Columns must be same length as key"
     ]
    }
   ],
   "source": [
    "# Function to split lineId and ensure it has three parts\n",
    "def split_line_id(line_id):\n",
    "    parts = line_id.split('-')\n",
    "    return parts\n",
    "\n",
    "# Apply the function to split the lineId into three parts\n",
    "lines_df[['Player1LastName', 'Player2LastName', 'Player3LastName']] = lines_df['name'].apply(split_line_id).apply(pd.Series)\n",
    "\n",
    "print(lines_df[['lineId', 'Player1LastName', 'Player2LastName', 'Player3LastName']].head())"
   ]
  }
 ],
 "metadata": {
  "kernelspec": {
   "display_name": "Python 3 (ipykernel)",
   "language": "python",
   "name": "python3"
  },
  "language_info": {
   "codemirror_mode": {
    "name": "ipython",
    "version": 3
   },
   "file_extension": ".py",
   "mimetype": "text/x-python",
   "name": "python",
   "nbconvert_exporter": "python",
   "pygments_lexer": "ipython3",
   "version": "3.9.6"
  }
 },
 "nbformat": 4,
 "nbformat_minor": 5
}
